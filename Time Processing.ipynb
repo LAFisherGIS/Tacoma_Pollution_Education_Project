{
 "cells": [
  {
   "cell_type": "code",
   "execution_count": 1,
   "id": "b326829f",
   "metadata": {},
   "outputs": [],
   "source": [
    "import pandas as pd\n",
    "import datetime as dt\n",
    "from datetimerange import DateTimeRange as dtr\n",
    "\n",
    "def timeExtract(data, time1, time2, timefield):\n",
    "    '''all inputs are strings. Extracts data from one pandas dataframe to another if it falls within a given timespan.'''\n",
    "    #for processing flow monitor data, remember that time data will be in UTC (7 hours later than PST)\n",
    "    \n",
    "    d = pd.read_csv(data)\n",
    "    tr = dtr(time1, time2)\n",
    "    #it is necessary to drop everything past minutes in order to guarantee that the time will match between geocoding and \n",
    "    #when the readings were taken. Remember to join the output files before converting them to anything else.\n",
    "    d['truedate'] = pd.to_datetime(d[timefield]).dt.floor('T')\n",
    "    \n",
    "    d2 = pd.DataFrame()\n",
    "    \n",
    "    for i in range(len(d)):\n",
    "        if d['truedate'].iloc[i] in tr:\n",
    "            d2 = d2.append(d.iloc[i])\n",
    "\n",
    "    return d2\n"
   ]
  },
  {
   "cell_type": "code",
   "execution_count": 3,
   "id": "788b5cc9",
   "metadata": {},
   "outputs": [],
   "source": [
    "day1p1 = timeExtract(\"myflowdata/flow/user_1304855_1652657426/user_positions_20220412_20220512_1.csv\",\n",
    "                            \"2022-04-12 18:20:00\", \"2022-04-12 20:28:00\", \"date\")\n",
    "\n",
    "day1p2 = timeExtract(\"myflowdata/flow/user_1304855_1652657426/user_positions_20220412_20220512_1.csv\",\n",
    "                            \"2022-04-12 20:41:00\", \"2022-04-12 21:40:00\", \"date\")\n",
    "\n",
    "day2 = timeExtract(\"myflowdata/flow/user_1304855_1652657426/user_positions_20220412_20220512_1.csv\",\n",
    "                            \"2022-05-10 22:00:00\", \"2022-05-11 00:00:00\", \"date\")"
   ]
  },
  {
   "cell_type": "code",
   "execution_count": 5,
   "id": "f1b0c550",
   "metadata": {},
   "outputs": [],
   "source": [
    "extractedData = pd.concat([day1p1,day1p2, day2])"
   ]
  },
  {
   "cell_type": "code",
   "execution_count": 6,
   "id": "58b85252",
   "metadata": {
    "scrolled": true
   },
   "outputs": [
    {
     "name": "stdout",
     "output_type": "stream",
     "text": [
      "1      2022-04-12 18:20:00\n",
      "2      2022-04-12 18:20:00\n",
      "3      2022-04-12 18:21:00\n",
      "4      2022-04-12 18:21:00\n",
      "5      2022-04-12 18:22:00\n",
      "               ...        \n",
      "3446   2022-05-10 23:53:00\n",
      "3447   2022-05-10 23:54:00\n",
      "3448   2022-05-10 23:54:00\n",
      "3449   2022-05-10 23:55:00\n",
      "3450   2022-05-10 23:59:00\n",
      "Name: truedate, Length: 453, dtype: datetime64[ns]\n"
     ]
    }
   ],
   "source": [
    "\n",
    "print(extractedData['truedate'])"
   ]
  },
  {
   "cell_type": "code",
   "execution_count": 7,
   "id": "d130d985",
   "metadata": {},
   "outputs": [],
   "source": [
    "extractedData.to_csv('mySurvey.csv')"
   ]
  },
  {
   "cell_type": "code",
   "execution_count": 9,
   "id": "be076057",
   "metadata": {},
   "outputs": [],
   "source": [
    "day1p1stat = timeExtract(\"myflowdata/flow/user_1304855_1652657426/user_measures_20220412_20220504_1.csv\",\n",
    "                            \"2022-04-12 18:20:00\", \"2022-04-12 20:28:00\", \"date (UTC)\")\n",
    "\n",
    "day1p2stat = timeExtract(\"myflowdata/flow/user_1304855_1652657426/user_measures_20220412_20220504_1.csv\",\n",
    "                            \"2022-04-12 20:41:00\", \"2022-04-12 21:40:00\", \"date (UTC)\")\n",
    "\n",
    "day2stat = timeExtract(\"myflowdata/flow/user_1304855_1652657426/user_measures_20220504_20220512_2.csv\",\n",
    "                            \"2022-05-10 22:00:00\", \"2022-05-11 00:00:00\", \"date (UTC)\")"
   ]
  },
  {
   "cell_type": "code",
   "execution_count": 10,
   "id": "8c976516",
   "metadata": {},
   "outputs": [],
   "source": [
    "extractedStat = pd.concat([day1p1stat,day1p2stat, day2stat])"
   ]
  },
  {
   "cell_type": "code",
   "execution_count": 11,
   "id": "51537738",
   "metadata": {},
   "outputs": [
    {
     "name": "stdout",
     "output_type": "stream",
     "text": [
      "         timestamp           date (UTC)  NO2 (ppb)  VOC (ppb)  pm 10 (ug/m3)  \\\n",
      "8     1.649788e+09  2022-04-12 18:20:09      446.0       15.0      26.473090   \n",
      "9     1.649788e+09  2022-04-12 18:21:09      451.0       14.0      16.536581   \n",
      "10    1.649788e+09  2022-04-12 18:22:09      181.0       15.0       5.458352   \n",
      "11    1.649788e+09  2022-04-12 18:23:09      181.0       14.0      41.745377   \n",
      "12    1.649788e+09  2022-04-12 18:24:09      183.0       14.0       5.063039   \n",
      "...            ...                  ...        ...        ...            ...   \n",
      "9178  1.652227e+09  2022-05-10 23:56:45       32.0       25.0       3.000000   \n",
      "9179  1.652227e+09  2022-05-10 23:57:45       30.0       28.0       3.000000   \n",
      "9180  1.652227e+09  2022-05-10 23:58:45       25.0      126.0       3.000000   \n",
      "9181  1.652227e+09  2022-05-10 23:59:45       26.0       99.0       3.000000   \n",
      "9182  1.652227e+09  2022-05-11 00:00:45       26.0       77.0       3.000000   \n",
      "\n",
      "      pm 2.5 (ug/m3)  NO2 (Plume AQI)  VOC (Plume AQI)  pm 10 (Plume AQI)  \\\n",
      "8           3.843584            260.0              1.0               26.0   \n",
      "9           4.888894            262.0              1.0               17.0   \n",
      "10          4.458352            135.0              1.0                5.0   \n",
      "11          4.348359            135.0              1.0               42.0   \n",
      "12          4.063039            136.0              1.0                5.0   \n",
      "...              ...              ...              ...                ...   \n",
      "9178        2.000000             36.0              2.0                3.0   \n",
      "9179        2.000000             32.0              2.0                3.0   \n",
      "9180        2.000000             26.0             10.0                3.0   \n",
      "9181        2.000000             27.0              8.0                3.0   \n",
      "9182        2.000000             26.0              6.0                3.0   \n",
      "\n",
      "      pm 2.5 (Plume AQI)  pm 1 (ug/m3)  pm 1 (Plume AQI)            truedate  \n",
      "8                    8.0           3.0               7.0 2022-04-12 18:20:00  \n",
      "9                   10.0           4.0              10.0 2022-04-12 18:21:00  \n",
      "10                   9.0           3.0               9.0 2022-04-12 18:22:00  \n",
      "11                   9.0           3.0               8.0 2022-04-12 18:23:00  \n",
      "12                   8.0           3.0               8.0 2022-04-12 18:24:00  \n",
      "...                  ...           ...               ...                 ...  \n",
      "9178                 4.0           1.0               3.0 2022-05-10 23:56:00  \n",
      "9179                 4.0           1.0               3.0 2022-05-10 23:57:00  \n",
      "9180                 4.0           1.0               3.0 2022-05-10 23:58:00  \n",
      "9181                 4.0           1.0               3.0 2022-05-10 23:59:00  \n",
      "9182                 4.0           1.0               3.0 2022-05-11 00:00:00  \n",
      "\n",
      "[310 rows x 13 columns]\n"
     ]
    }
   ],
   "source": [
    "print(extractedStat)"
   ]
  },
  {
   "cell_type": "code",
   "execution_count": 13,
   "id": "e6f489ec",
   "metadata": {},
   "outputs": [],
   "source": [
    "extractedStat.to_csv('mystats.csv')"
   ]
  },
  {
   "cell_type": "code",
   "execution_count": null,
   "id": "9443493d",
   "metadata": {},
   "outputs": [],
   "source": []
  }
 ],
 "metadata": {
  "kernelspec": {
   "display_name": "Python 3 (ipykernel)",
   "language": "python",
   "name": "python3"
  },
  "language_info": {
   "codemirror_mode": {
    "name": "ipython",
    "version": 3
   },
   "file_extension": ".py",
   "mimetype": "text/x-python",
   "name": "python",
   "nbconvert_exporter": "python",
   "pygments_lexer": "ipython3",
   "version": "3.7.13"
  }
 },
 "nbformat": 4,
 "nbformat_minor": 5
}
